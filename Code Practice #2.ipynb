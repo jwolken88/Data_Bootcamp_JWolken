{
 "cells": [
  {
   "cell_type": "code",
   "execution_count": 3,
   "metadata": {},
   "outputs": [
    {
     "ename": "TypeError",
     "evalue": "can only concatenate list (not \"str\") to list",
     "output_type": "error",
     "traceback": [
      "\u001b[0;31m---------------------------------------------------------------------------\u001b[0m",
      "\u001b[0;31mTypeError\u001b[0m                                 Traceback (most recent call last)",
      "\u001b[0;32m<ipython-input-3-9981498e181c>\u001b[0m in \u001b[0;36m<module>\u001b[0;34m()\u001b[0m\n\u001b[1;32m      3\u001b[0m \u001b[0mx\u001b[0m \u001b[0;34m=\u001b[0m \u001b[0;34m[\u001b[0m\u001b[0;36m1\u001b[0m\u001b[0;34m,\u001b[0m \u001b[0;36m2\u001b[0m\u001b[0;34m,\u001b[0m \u001b[0;36m3\u001b[0m\u001b[0;34m]\u001b[0m\u001b[0;34m\u001b[0m\u001b[0m\n\u001b[1;32m      4\u001b[0m \u001b[0my\u001b[0m \u001b[0;34m=\u001b[0m \u001b[0;34m'bootcamp'\u001b[0m\u001b[0;34m\u001b[0m\u001b[0m\n\u001b[0;32m----> 5\u001b[0;31m \u001b[0mz\u001b[0m \u001b[0;34m=\u001b[0m \u001b[0mx\u001b[0m \u001b[0;34m+\u001b[0m \u001b[0my\u001b[0m\u001b[0;34m\u001b[0m\u001b[0m\n\u001b[0m\u001b[1;32m      6\u001b[0m \u001b[0;34m\u001b[0m\u001b[0m\n\u001b[1;32m      7\u001b[0m \u001b[0;31m# This code produces a TypeError because you can't concatenate a string and a list and can only concatenate the same datatype.\u001b[0m\u001b[0;34m\u001b[0m\u001b[0;34m\u001b[0m\u001b[0m\n",
      "\u001b[0;31mTypeError\u001b[0m: can only concatenate list (not \"str\") to list"
     ]
    }
   ],
   "source": [
    "#1.\n",
    "\n",
    "x = [1, 2, 3]\n",
    "y = 'bootcamp'\n",
    "z = x + y"
   ]
  },
  {
   "cell_type": "markdown",
   "metadata": {},
   "source": [
    "This code produces a TypeError because you can't concatenate a string and a list and can only concatenate the same datatype."
   ]
  },
  {
   "cell_type": "markdown",
   "metadata": {},
   "source": [
    "# 2.\n",
    "\n",
    "The function type(x) tells us what datatype the variable x is, for example. This should produce an output that says list. \n",
    "For y, we would simply run type(y), which should produce the output str for string\n",
    "The function len(x) and len(y) tells us how many elements are included in each datatype"
   ]
  },
  {
   "cell_type": "code",
   "execution_count": 40,
   "metadata": {},
   "outputs": [
    {
     "name": "stdout",
     "output_type": "stream",
     "text": [
      "<class 'int'>\n",
      "<class 'str'>\n",
      "<class 'float'>\n",
      "<class 'str'>\n",
      "<class 'bool'>\n",
      "<class 'bool'>\n",
      "<class 'list'>\n",
      "<class 'tuple'>\n",
      "<class 'dict'>\n"
     ]
    }
   ],
   "source": [
    "#3. \n",
    "\n",
    "namelist = [2,'2', 2.0, \"2.0\", 2>1, 'Itamar' > 'Chase', [1, 2], (1, 2), {1: 'one', 2: 'two'}]\n",
    "\n",
    "for item in namelist:\n",
    "    print(type(item))"
   ]
  },
  {
   "cell_type": "markdown",
   "metadata": {},
   "source": [
    "We use a for loop here to print out the type of each expression in the variable namelist"
   ]
  },
  {
   "cell_type": "markdown",
   "metadata": {},
   "source": [
    "# 4.\n",
    "\n",
    "* 1>=0 is a true condition because 1 is greater than or equal to 0\n",
    "* 1 >= 1 is a true condition because 1 is greater than or equal to 0\n",
    "* 1 > 1 is a false condition because 1 is not greater than 1\n",
    "* 1==1 is a true condition because 1 is equal to 1\n",
    "* 1 == 1.0 is a true condition because the integer 1 is equal to the float 1.0\n",
    "* 'Spencer' == \"Spencer\" is a true condition because both strings are equal to each other\n",
    "* 2^3 > 3^2 is a false condition because the result of the left operand (8) is not greater than the result of the right operand (9)\n",
    "* 1 >= 0 or 1 <= 2 is a true condition because both comparisons are correct\n",
    "* 1 >=0 and 1 <= 2 is a true condition because both comparisons are correct"
   ]
  },
  {
   "cell_type": "code",
   "execution_count": 1,
   "metadata": {},
   "outputs": [
    {
     "ename": "SyntaxError",
     "evalue": "invalid syntax (<ipython-input-1-6c5d39467c27>, line 3)",
     "output_type": "error",
     "traceback": [
      "\u001b[0;36m  File \u001b[0;32m\"<ipython-input-1-6c5d39467c27>\"\u001b[0;36m, line \u001b[0;32m3\u001b[0m\n\u001b[0;31m    if 2>1\u001b[0m\n\u001b[0m          ^\u001b[0m\n\u001b[0;31mSyntaxError\u001b[0m\u001b[0;31m:\u001b[0m invalid syntax\n"
     ]
    }
   ],
   "source": [
    "#5. \n",
    "\n",
    "if 2>1\n",
    "    print('Yes, 2 is still greater than 1')"
   ]
  },
  {
   "cell_type": "markdown",
   "metadata": {},
   "source": [
    "This code produces a SyntaxError because our if statement doesn't end with a colon. The syntax is precise for if statements and requires a colon after the condition."
   ]
  },
  {
   "cell_type": "code",
   "execution_count": 2,
   "metadata": {},
   "outputs": [
    {
     "name": "stdout",
     "output_type": "stream",
     "text": [
      "on the one hand\n"
     ]
    }
   ],
   "source": [
    "#6.\n",
    "\n",
    "if True:\n",
    "    print('on the one hand')\n",
    "else:\n",
    "    print('but on the other hand')"
   ]
  },
  {
   "cell_type": "markdown",
   "metadata": {},
   "source": [
    "Because the if statement tells the program what to do if a condition is true, the result after running the code is on the one hand. However, if we replaced True with False in the first line or added the word not after the if, then the result would be but on the other hand."
   ]
  },
  {
   "cell_type": "code",
   "execution_count": 3,
   "metadata": {},
   "outputs": [
    {
     "name": "stdout",
     "output_type": "stream",
     "text": [
      "Chase\n"
     ]
    }
   ],
   "source": [
    "#7. \n",
    "\n",
    "cond = True\n",
    "if cond:\n",
    "    x = \"Chase\"\n",
    "else:\n",
    "    x = \"Dave\"\n",
    "print(x)"
   ]
  },
  {
   "cell_type": "code",
   "execution_count": 10,
   "metadata": {},
   "outputs": [
    {
     "name": "stdout",
     "output_type": "stream",
     "text": [
      "x has more\n"
     ]
    }
   ],
   "source": [
    "#8. \n",
    "\n",
    "x = [1, 2, 3, 4]\n",
    "y = ['x', 'y', 'z']\n",
    "\n",
    "if len(x) > len(y):\n",
    "    print('x has more')\n",
    "else:\n",
    "    print(\"y has at least as many\")"
   ]
  },
  {
   "cell_type": "markdown",
   "metadata": {},
   "source": [
    "# 9.\n",
    "\n",
    "We can use slicing to access different elements of strings and lists by specifying the item mumber in square brackets. This allows us to pull apart particular pieces of information within large pieces of elements."
   ]
  },
  {
   "cell_type": "code",
   "execution_count": 15,
   "metadata": {},
   "outputs": [
    {
     "name": "stdout",
     "output_type": "stream",
     "text": [
      "1\n",
      "5\n",
      "[1, 2, 3, 4]\n"
     ]
    }
   ],
   "source": [
    "#10.\n",
    "\n",
    "x = [1, 2, 3, 4, 5]\n",
    "print(x[0])\n",
    "print(x[4])\n",
    "print(x[0:4])"
   ]
  },
  {
   "cell_type": "markdown",
   "metadata": {},
   "source": [
    "Here, we have written out the code for how to slice the list x into the first element, last element, and the first 4 elements."
   ]
  },
  {
   "cell_type": "code",
   "execution_count": 50,
   "metadata": {},
   "outputs": [
    {
     "name": "stdout",
     "output_type": "stream",
     "text": [
      "This\n",
      "is\n",
      "a\n",
      "sentence\n",
      "please \n",
      "slice \n",
      "it.\n"
     ]
    }
   ],
   "source": [
    "#11.\n",
    "\n",
    "sentence = 'This is a sentence; please slice it.'\n",
    "len(sentence)\n",
    "print(sentence[:4])\n",
    "print(sentence[5:7])\n",
    "print(sentence[8:9])\n",
    "print(sentence[10:18])\n",
    "print(sentence[20:27])\n",
    "print(sentence[27:33])\n",
    "print(sentence[-3:])"
   ]
  },
  {
   "cell_type": "code",
   "execution_count": 56,
   "metadata": {},
   "outputs": [
    {
     "name": "stdout",
     "output_type": "stream",
     "text": [
      "1\n",
      "10\n",
      "['b', 'fast', 'slow', 3]\n"
     ]
    }
   ],
   "source": [
    "#12. \n",
    "\n",
    "x = [1, 2, \"a\", 'b', \"fast\", 'slow', 3, \"Raghu\", 'Liuren', 10]\n",
    "print(x[0])\n",
    "print(x[-1])\n",
    "print(x[3:7])"
   ]
  },
  {
   "cell_type": "code",
   "execution_count": 57,
   "metadata": {},
   "outputs": [
    {
     "name": "stdout",
     "output_type": "stream",
     "text": [
      "1\n",
      "2\n",
      "a\n",
      "b\n",
      "fast\n",
      "slow\n",
      "3\n",
      "Raghu\n",
      "Liuren\n",
      "10\n"
     ]
    }
   ],
   "source": [
    "#13.\n",
    "\n",
    "x = [1, 2, \"a\", 'b', \"fast\", 'slow', 3, \"Raghu\", 'Liuren', 10]\n",
    "for item in x:\n",
    "    print(item)"
   ]
  },
  {
   "cell_type": "code",
   "execution_count": 85,
   "metadata": {},
   "outputs": [
    {
     "name": "stdout",
     "output_type": "stream",
     "text": [
      "['a', 'b', 'fast', 'slow', 'Raghu', 'Liuren']\n"
     ]
    }
   ],
   "source": [
    "#14.\n",
    "\n",
    "x = [1, 2, \"a\", 'b', \"fast\", 'slow', 3, \"Raghu\", 'Liuren', 10]\n",
    "strings1 = x[2:6]\n",
    "strings2 = x[7:9]\n",
    "\n",
    "for item in x:\n",
    "    print(strings1 + strings2)\n",
    "    break"
   ]
  },
  {
   "cell_type": "code",
   "execution_count": 84,
   "metadata": {},
   "outputs": [
    {
     "data": {
      "text/plain": [
       "[3, 5, 7, 9, 11]"
      ]
     },
     "execution_count": 84,
     "metadata": {},
     "output_type": "execute_result"
    }
   ],
   "source": [
    "#15.\n",
    "\n",
    "range(3,12,2)\n",
    "list(range(3,12,2))"
   ]
  },
  {
   "cell_type": "markdown",
   "metadata": {},
   "source": [
    "The range function generates a list of numbers that allows us to iterate over specfic numbers. Here, we verified this by converting the range (3,12,2) to a list: our range specified that we would start at 3, run until 12, and skip every 2 integers between 3 and 12."
   ]
  },
  {
   "cell_type": "code",
   "execution_count": 130,
   "metadata": {},
   "outputs": [
    {
     "name": "stdout",
     "output_type": "stream",
     "text": [
      "165\n"
     ]
    }
   ],
   "source": [
    "#16.\n",
    "\n",
    "def sum(numbers):\n",
    "    total = 30\n",
    "    for x in numbers:\n",
    "        if (x%3==0):\n",
    "            total += x\n",
    "    return total\n",
    "print(sum(range(0,30)))"
   ]
  },
  {
   "cell_type": "code",
   "execution_count": 136,
   "metadata": {},
   "outputs": [
    {
     "name": "stdout",
     "output_type": "stream",
     "text": [
      "1.41\n"
     ]
    }
   ],
   "source": [
    "#17.\n",
    "\n",
    "def pocket_change(pennies, nickels, dimes, quarters):\n",
    "    value = pennies + 5*nickels + 10*dimes + 25*quarters\n",
    "    return value/100\n",
    "\n",
    "v = pocket_change(1, 2, 3, 4)\n",
    "print(v)"
   ]
  },
  {
   "cell_type": "code",
   "execution_count": 173,
   "metadata": {},
   "outputs": [],
   "source": [
    "#18.\n",
    "\n",
    "def notsix(y):\n",
    "    x = []\n",
    "    for i in y:\n",
    "        stri = str(i)\n",
    "        if stri[0] != '6':\n",
    "            x.append[i]\n",
    "        i=i+1\n",
    "    print(x)"
   ]
  },
  {
   "cell_type": "code",
   "execution_count": 174,
   "metadata": {},
   "outputs": [
    {
     "ename": "TypeError",
     "evalue": "'int' object is not callable",
     "output_type": "error",
     "traceback": [
      "\u001b[0;31m---------------------------------------------------------------------------\u001b[0m",
      "\u001b[0;31mTypeError\u001b[0m                                 Traceback (most recent call last)",
      "\u001b[0;32m<ipython-input-174-5395131b9d90>\u001b[0m in \u001b[0;36m<module>\u001b[0;34m()\u001b[0m\n\u001b[0;32m----> 1\u001b[0;31m \u001b[0mnotsix\u001b[0m\u001b[0;34m(\u001b[0m\u001b[0;34m[\u001b[0m\u001b[0;36m1234\u001b[0m\u001b[0;34m,\u001b[0m \u001b[0;36m6783\u001b[0m\u001b[0;34m,\u001b[0m \u001b[0;36m6\u001b[0m\u001b[0;34m,\u001b[0m \u001b[0;36m4321\u001b[0m\u001b[0;34m,\u001b[0m \u001b[0;36m9876\u001b[0m\u001b[0;34m]\u001b[0m\u001b[0;34m)\u001b[0m\u001b[0;34m\u001b[0m\u001b[0m\n\u001b[0m",
      "\u001b[0;32m<ipython-input-173-5f529a4a4c74>\u001b[0m in \u001b[0;36mnotsix\u001b[0;34m(y)\u001b[0m\n\u001b[1;32m      4\u001b[0m     \u001b[0mx\u001b[0m \u001b[0;34m=\u001b[0m \u001b[0;34m[\u001b[0m\u001b[0;34m]\u001b[0m\u001b[0;34m\u001b[0m\u001b[0m\n\u001b[1;32m      5\u001b[0m     \u001b[0;32mfor\u001b[0m \u001b[0mi\u001b[0m \u001b[0;32min\u001b[0m \u001b[0my\u001b[0m\u001b[0;34m:\u001b[0m\u001b[0;34m\u001b[0m\u001b[0m\n\u001b[0;32m----> 6\u001b[0;31m         \u001b[0mstri\u001b[0m \u001b[0;34m=\u001b[0m \u001b[0mstr\u001b[0m\u001b[0;34m(\u001b[0m\u001b[0mi\u001b[0m\u001b[0;34m)\u001b[0m\u001b[0;34m\u001b[0m\u001b[0m\n\u001b[0m\u001b[1;32m      7\u001b[0m         \u001b[0;32mif\u001b[0m \u001b[0mstri\u001b[0m\u001b[0;34m[\u001b[0m\u001b[0;36m0\u001b[0m\u001b[0;34m]\u001b[0m \u001b[0;34m!=\u001b[0m \u001b[0;34m'6'\u001b[0m\u001b[0;34m:\u001b[0m\u001b[0;34m\u001b[0m\u001b[0m\n\u001b[1;32m      8\u001b[0m             \u001b[0mx\u001b[0m\u001b[0;34m.\u001b[0m\u001b[0mappend\u001b[0m\u001b[0;34m[\u001b[0m\u001b[0mi\u001b[0m\u001b[0;34m]\u001b[0m\u001b[0;34m\u001b[0m\u001b[0m\n",
      "\u001b[0;31mTypeError\u001b[0m: 'int' object is not callable"
     ]
    }
   ],
   "source": [
    "notsix([1234, 6783, 6, 4321, 9876])"
   ]
  },
  {
   "cell_type": "markdown",
   "metadata": {},
   "source": [
    "# 19.\n",
    "\n",
    "The new list revises the old list by using the string version of the previous list, and takes the first element and compares it to 6. If the code runs without error then it gets added to the new list."
   ]
  },
  {
   "cell_type": "markdown",
   "metadata": {},
   "source": [
    "# 20.\n",
    "\n",
    "* z is a dictionary and its length is three because it has 3 items inside of it.\n",
    "* The keys are 1: 2: and 3: and the values are what the keys point to, such as 'one' 'two' and 'three'\n",
    "* To get the value associated with key 2, you would just run z[2]. This looks like slicing, but we can extract the values assigned to keys this way.\n",
    "* z.keys allows us to see the keys that are included in our dictionary, while z.values allows us to see their corresponding values.\n",
    "* list(z.keys()) simply prints the keys that are included in our dictionary in a list format\n",
    "* list(z.values()) simply prints the values that our keys correspond to in our dictionary in a list format\n",
    "* list(z) produces the same result as list(z.keys()), which returns the keys in our dictionary (1, 2, and 3 in this case)"
   ]
  },
  {
   "cell_type": "code",
   "execution_count": 163,
   "metadata": {},
   "outputs": [],
   "source": [
    "z = {1: 'one', 2: 'two', 3: 'three'}"
   ]
  },
  {
   "cell_type": "code",
   "execution_count": 164,
   "metadata": {},
   "outputs": [
    {
     "data": {
      "text/plain": [
       "dict_keys([1, 2, 3])"
      ]
     },
     "execution_count": 164,
     "metadata": {},
     "output_type": "execute_result"
    }
   ],
   "source": [
    "z.keys()"
   ]
  },
  {
   "cell_type": "code",
   "execution_count": 165,
   "metadata": {},
   "outputs": [
    {
     "data": {
      "text/plain": [
       "dict_values(['one', 'two', 'three'])"
      ]
     },
     "execution_count": 165,
     "metadata": {},
     "output_type": "execute_result"
    }
   ],
   "source": [
    "z. values()"
   ]
  },
  {
   "cell_type": "code",
   "execution_count": 166,
   "metadata": {},
   "outputs": [
    {
     "data": {
      "text/plain": [
       "[1, 2, 3]"
      ]
     },
     "execution_count": 166,
     "metadata": {},
     "output_type": "execute_result"
    }
   ],
   "source": [
    "list(z.keys())"
   ]
  },
  {
   "cell_type": "code",
   "execution_count": 167,
   "metadata": {},
   "outputs": [
    {
     "data": {
      "text/plain": [
       "['one', 'two', 'three']"
      ]
     },
     "execution_count": 167,
     "metadata": {},
     "output_type": "execute_result"
    }
   ],
   "source": [
    "list(z.values())"
   ]
  },
  {
   "cell_type": "code",
   "execution_count": 168,
   "metadata": {},
   "outputs": [
    {
     "data": {
      "text/plain": [
       "[1, 2, 3]"
      ]
     },
     "execution_count": 168,
     "metadata": {},
     "output_type": "execute_result"
    }
   ],
   "source": [
    "list(z)"
   ]
  },
  {
   "cell_type": "markdown",
   "metadata": {},
   "source": [
    "# 21.\n",
    "\n",
    "This assignment took me over 3 consecutive hours to complete. It was definitely more challenging than the last assignment."
   ]
  },
  {
   "cell_type": "code",
   "execution_count": null,
   "metadata": {},
   "outputs": [],
   "source": []
  }
 ],
 "metadata": {
  "kernelspec": {
   "display_name": "Python 3",
   "language": "python",
   "name": "python3"
  },
  "language_info": {
   "codemirror_mode": {
    "name": "ipython",
    "version": 3
   },
   "file_extension": ".py",
   "mimetype": "text/x-python",
   "name": "python",
   "nbconvert_exporter": "python",
   "pygments_lexer": "ipython3",
   "version": "3.6.5"
  }
 },
 "nbformat": 4,
 "nbformat_minor": 2
}
